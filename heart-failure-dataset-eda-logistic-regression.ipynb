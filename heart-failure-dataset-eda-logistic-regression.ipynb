{
 "cells": [
  {
   "cell_type": "code",
   "execution_count": null,
   "metadata": {
    "_cell_guid": "b1076dfc-b9ad-4769-8c92-a6c4dae69d19",
    "_uuid": "8f2839f25d086af736a60e9eeb907d3b93b6e0e5",
    "execution": {
     "iopub.execute_input": "2023-08-12T09:45:22.830679Z",
     "iopub.status.busy": "2023-08-12T09:45:22.830274Z",
     "iopub.status.idle": "2023-08-12T09:45:22.865333Z",
     "shell.execute_reply": "2023-08-12T09:45:22.864354Z",
     "shell.execute_reply.started": "2023-08-12T09:45:22.830647Z"
    },
    "trusted": true
   },
   "outputs": [],
   "source": [
    "import numpy as np \n",
    "import pandas as pd \n",
    "\n",
    "import os\n",
    "for dirname, _, filenames in os.walk('/kaggle/input'):\n",
    "    for filename in filenames:\n",
    "        print(os.path.join(dirname, filename))\n",
    "\n",
    "# You can write up to 20GB to the current directory (/kaggle/working/) that gets preserved as output when you create a version using \"Save & Run All\" \n",
    "# You can also write temporary files to /kaggle/temp/, but they won't be saved outside of the current session"
   ]
  },
  {
   "cell_type": "markdown",
   "metadata": {},
   "source": [
    "## Reading the Dataset"
   ]
  },
  {
   "cell_type": "code",
   "execution_count": null,
   "metadata": {
    "execution": {
     "iopub.execute_input": "2023-08-12T09:52:27.479721Z",
     "iopub.status.busy": "2023-08-12T09:52:27.479296Z",
     "iopub.status.idle": "2023-08-12T09:52:27.490517Z",
     "shell.execute_reply": "2023-08-12T09:52:27.489178Z",
     "shell.execute_reply.started": "2023-08-12T09:52:27.479686Z"
    },
    "trusted": true
   },
   "outputs": [],
   "source": [
    "df = pd.read_csv('/kaggle/input/heart-failure-clinical-data/heart_failure_clinical_records_dataset.csv')"
   ]
  },
  {
   "cell_type": "code",
   "execution_count": null,
   "metadata": {
    "execution": {
     "iopub.execute_input": "2023-08-12T09:52:35.361644Z",
     "iopub.status.busy": "2023-08-12T09:52:35.361191Z",
     "iopub.status.idle": "2023-08-12T09:52:35.390678Z",
     "shell.execute_reply": "2023-08-12T09:52:35.389502Z",
     "shell.execute_reply.started": "2023-08-12T09:52:35.361602Z"
    },
    "trusted": true
   },
   "outputs": [],
   "source": [
    "df.head()"
   ]
  },
  {
   "cell_type": "code",
   "execution_count": null,
   "metadata": {
    "execution": {
     "iopub.execute_input": "2023-08-12T09:53:34.048049Z",
     "iopub.status.busy": "2023-08-12T09:53:34.047624Z",
     "iopub.status.idle": "2023-08-12T09:53:34.108130Z",
     "shell.execute_reply": "2023-08-12T09:53:34.106967Z",
     "shell.execute_reply.started": "2023-08-12T09:53:34.048017Z"
    },
    "trusted": true
   },
   "outputs": [],
   "source": [
    "# Checking the basic stats\n",
    "df.describe()"
   ]
  },
  {
   "cell_type": "code",
   "execution_count": null,
   "metadata": {
    "execution": {
     "iopub.execute_input": "2023-08-12T09:54:15.630656Z",
     "iopub.status.busy": "2023-08-12T09:54:15.630138Z",
     "iopub.status.idle": "2023-08-12T09:54:15.658270Z",
     "shell.execute_reply": "2023-08-12T09:54:15.656615Z",
     "shell.execute_reply.started": "2023-08-12T09:54:15.630614Z"
    },
    "trusted": true
   },
   "outputs": [],
   "source": [
    "# Checking for dtype and non nullcount\n",
    "\n",
    "df.info()"
   ]
  },
  {
   "cell_type": "code",
   "execution_count": null,
   "metadata": {
    "execution": {
     "iopub.execute_input": "2023-08-12T10:20:06.276993Z",
     "iopub.status.busy": "2023-08-12T10:20:06.276539Z",
     "iopub.status.idle": "2023-08-12T10:20:06.288054Z",
     "shell.execute_reply": "2023-08-12T10:20:06.286403Z",
     "shell.execute_reply.started": "2023-08-12T10:20:06.276956Z"
    },
    "trusted": true
   },
   "outputs": [],
   "source": [
    "df.isna().mean() * 100 "
   ]
  },
  {
   "cell_type": "markdown",
   "metadata": {},
   "source": [
    "***We do not see any null values in the dataset***\n",
    "\n",
    "***We can start with the EDA***"
   ]
  },
  {
   "cell_type": "markdown",
   "metadata": {},
   "source": [
    "# EDA"
   ]
  },
  {
   "cell_type": "code",
   "execution_count": null,
   "metadata": {
    "execution": {
     "iopub.execute_input": "2023-08-12T09:59:41.092990Z",
     "iopub.status.busy": "2023-08-12T09:59:41.092589Z",
     "iopub.status.idle": "2023-08-12T09:59:41.100228Z",
     "shell.execute_reply": "2023-08-12T09:59:41.098974Z",
     "shell.execute_reply.started": "2023-08-12T09:59:41.092959Z"
    },
    "trusted": true
   },
   "outputs": [],
   "source": [
    "# importing basic libraries\n",
    "import matplotlib.pyplot as plt\n",
    "import seaborn as sns\n",
    "%matplotlib inline\n",
    "import warnings\n",
    "warnings.filterwarnings('ignore')"
   ]
  },
  {
   "cell_type": "code",
   "execution_count": null,
   "metadata": {
    "execution": {
     "iopub.execute_input": "2023-08-12T09:56:10.004984Z",
     "iopub.status.busy": "2023-08-12T09:56:10.004568Z",
     "iopub.status.idle": "2023-08-12T09:56:10.014210Z",
     "shell.execute_reply": "2023-08-12T09:56:10.012185Z",
     "shell.execute_reply.started": "2023-08-12T09:56:10.004948Z"
    },
    "trusted": true
   },
   "outputs": [],
   "source": [
    "df.columns"
   ]
  },
  {
   "cell_type": "code",
   "execution_count": null,
   "metadata": {
    "execution": {
     "iopub.execute_input": "2023-08-12T10:01:13.015296Z",
     "iopub.status.busy": "2023-08-12T10:01:13.014910Z",
     "iopub.status.idle": "2023-08-12T10:01:14.689321Z",
     "shell.execute_reply": "2023-08-12T10:01:14.688300Z",
     "shell.execute_reply.started": "2023-08-12T10:01:13.015266Z"
    },
    "trusted": true
   },
   "outputs": [],
   "source": [
    "num_col = ['age', 'creatinine_phosphokinase',\n",
    "       'ejection_fraction', 'platelets',\n",
    "       'serum_creatinine', 'serum_sodium', 'time']\n",
    "j = 1 \n",
    "fig = plt.figure(figsize =(20,10))\n",
    "for i in num_col: \n",
    "    plt.subplot(2,4,j)\n",
    "    df[i].value_counts().plot(kind ='hist')\n",
    "    plt.title(i)\n",
    "    j=j+1\n",
    "\n",
    "plt.show()"
   ]
  },
  {
   "cell_type": "code",
   "execution_count": null,
   "metadata": {
    "execution": {
     "iopub.execute_input": "2023-08-12T10:03:03.470102Z",
     "iopub.status.busy": "2023-08-12T10:03:03.469707Z",
     "iopub.status.idle": "2023-08-12T10:03:05.473943Z",
     "shell.execute_reply": "2023-08-12T10:03:05.472820Z",
     "shell.execute_reply.started": "2023-08-12T10:03:03.470070Z"
    },
    "trusted": true
   },
   "outputs": [],
   "source": [
    "j = 1 \n",
    "\n",
    "fig = plt.figure(figsize =(20,10))\n",
    "for i in num_col: \n",
    "    plt.subplot(2,4,j)\n",
    "    sns.distplot(df[i])\n",
    "    plt.title(i)\n",
    "    j=j+1\n",
    "\n",
    "plt.show()"
   ]
  },
  {
   "cell_type": "markdown",
   "metadata": {},
   "source": [
    "All the numerical fields are skewed"
   ]
  },
  {
   "cell_type": "code",
   "execution_count": null,
   "metadata": {
    "execution": {
     "iopub.execute_input": "2023-08-12T10:10:22.874662Z",
     "iopub.status.busy": "2023-08-12T10:10:22.874226Z",
     "iopub.status.idle": "2023-08-12T10:10:24.139521Z",
     "shell.execute_reply": "2023-08-12T10:10:24.138278Z",
     "shell.execute_reply.started": "2023-08-12T10:10:22.874627Z"
    },
    "trusted": true
   },
   "outputs": [],
   "source": [
    "fig = plt.figure(figsize=(20,10))\n",
    "j=1\n",
    "for i in num_col:\n",
    "    plt.subplot(2,4,j)\n",
    "    sns.violinplot(df[i])\n",
    "    j=j+1"
   ]
  },
  {
   "cell_type": "markdown",
   "metadata": {},
   "source": [
    "***Checking the Categorical Columns Data***"
   ]
  },
  {
   "cell_type": "code",
   "execution_count": null,
   "metadata": {
    "execution": {
     "iopub.execute_input": "2023-08-12T10:13:24.069926Z",
     "iopub.status.busy": "2023-08-12T10:13:24.069507Z",
     "iopub.status.idle": "2023-08-12T10:13:24.741377Z",
     "shell.execute_reply": "2023-08-12T10:13:24.739832Z",
     "shell.execute_reply.started": "2023-08-12T10:13:24.069893Z"
    },
    "trusted": true
   },
   "outputs": [],
   "source": [
    "cat_col = [ 'anaemia', 'diabetes','high_blood_pressure', 'sex', 'smoking','DEATH_EVENT']\n",
    "fig = plt.figure(figsize = (15,10))\n",
    "j=1\n",
    "for i in cat_col:\n",
    "    plt.subplot(2,3,j)\n",
    "    df[i].value_counts().plot(kind ='pie',autopct = '%.2f')\n",
    "    j=j+1"
   ]
  },
  {
   "cell_type": "markdown",
   "metadata": {},
   "source": [
    "1. Sex - Male- 64.88 , Female- 35.12\n",
    "1. Diabetes - No = 58.19, Yes = 41.81\n",
    "1. Anaemia - No = 56.86 , Yes = 43.14\n",
    "1. High_blood_pressure - No = 64.88, Yes = 35.12\n",
    "1. Smoking - No = 67.89, Yes = 32.11\n",
    "1. DEATH_EVENT - No = 67.89, Yes = 32.11"
   ]
  },
  {
   "cell_type": "code",
   "execution_count": null,
   "metadata": {
    "execution": {
     "iopub.execute_input": "2023-08-12T10:30:16.618973Z",
     "iopub.status.busy": "2023-08-12T10:30:16.618546Z",
     "iopub.status.idle": "2023-08-12T10:30:17.697022Z",
     "shell.execute_reply": "2023-08-12T10:30:17.695366Z",
     "shell.execute_reply.started": "2023-08-12T10:30:16.618938Z"
    },
    "trusted": true
   },
   "outputs": [],
   "source": [
    "fig = plt.figure(figsize=(15, 10))\n",
    "j = 1\n",
    "\n",
    "for i in cat_col:\n",
    "    plt.subplot(2, 3, j)\n",
    "    sns.countplot(data=df, x=i)\n",
    "    \n",
    "    j = j + 1\n",
    "\n",
    "plt.tight_layout()\n",
    "plt.show()"
   ]
  },
  {
   "cell_type": "markdown",
   "metadata": {},
   "source": [
    "We can assume here that \n",
    "1. Sex --> Gender of the patient --> 1 = Male , 0 = Female\n",
    "2. Diabetes --> 0 = No , 1 = Yes\n",
    "3. Anaemia --> 0 = No , 1 = Yes\n",
    "4. High_blood_pressure --> 0 = No , 1 = Yes\n",
    "5. Smoking --> 0 = No , 1 = Yes\n",
    "6. Death_Event --> 0 = No , 1 = Yes"
   ]
  },
  {
   "cell_type": "markdown",
   "metadata": {},
   "source": [
    "***Analyzing the event of death for diabetes and anaemia wrt age***"
   ]
  },
  {
   "cell_type": "code",
   "execution_count": null,
   "metadata": {
    "execution": {
     "iopub.execute_input": "2023-08-12T10:46:11.780828Z",
     "iopub.status.busy": "2023-08-12T10:46:11.780386Z",
     "iopub.status.idle": "2023-08-12T10:46:12.612832Z",
     "shell.execute_reply": "2023-08-12T10:46:12.611629Z",
     "shell.execute_reply.started": "2023-08-12T10:46:11.780793Z"
    },
    "trusted": true
   },
   "outputs": [],
   "source": [
    "fig =  plt.figure(figsize = (15,10))\n",
    "plt.subplot(2,2,1)\n",
    "sns.barplot(x = df['DEATH_EVENT'] ,y = df['age'] , hue = df['diabetes'])\n",
    "plt.title(\"Age vs DEATH_EVENT (Diabetes)\")\n",
    "plt.subplot(2,2,2)\n",
    "sns.barplot(x = df['DEATH_EVENT'] , y = df['age'] , hue = df['anaemia']) \n",
    "plt.title(\"Age vs DEATH_EVENT (Anaemia)\")\n",
    "plt.show()"
   ]
  },
  {
   "cell_type": "markdown",
   "metadata": {},
   "source": [
    "The chances of death increases in a person who is old and has diabetes and anaemia\n"
   ]
  },
  {
   "cell_type": "code",
   "execution_count": null,
   "metadata": {
    "execution": {
     "iopub.execute_input": "2023-08-12T10:57:41.870646Z",
     "iopub.status.busy": "2023-08-12T10:57:41.870161Z",
     "iopub.status.idle": "2023-08-12T10:57:43.065294Z",
     "shell.execute_reply": "2023-08-12T10:57:43.064177Z",
     "shell.execute_reply.started": "2023-08-12T10:57:41.870611Z"
    },
    "trusted": true
   },
   "outputs": [],
   "source": [
    "sns.catplot(x = 'DEATH_EVENT', y= 'age', data =df, kind='bar' , hue ='diabetes',col ='high_blood_pressure')"
   ]
  },
  {
   "cell_type": "markdown",
   "metadata": {},
   "source": [
    "Old people with high blood pressure and diabetic are likely to die earlier"
   ]
  },
  {
   "cell_type": "code",
   "execution_count": null,
   "metadata": {
    "execution": {
     "iopub.execute_input": "2023-08-12T11:26:07.541851Z",
     "iopub.status.busy": "2023-08-12T11:26:07.541388Z",
     "iopub.status.idle": "2023-08-12T11:26:08.357314Z",
     "shell.execute_reply": "2023-08-12T11:26:08.356171Z",
     "shell.execute_reply.started": "2023-08-12T11:26:07.541813Z"
    },
    "trusted": true
   },
   "outputs": [],
   "source": [
    "fig =  plt.figure(figsize = (15,10))\n",
    "plt.subplot(2,2,1)\n",
    "sns.barplot(x = df['DEATH_EVENT'], y = df['creatinine_phosphokinase'],hue=df['high_blood_pressure'])\n",
    "plt.title(\"Creatinine Phosphokinase vs DEATH_EVENT (high_blood_pressure)\")\n",
    "plt.subplot(2,2,2)\n",
    "data = df[df['DEATH_EVENT'] == 1]\n",
    "sns.barplot(x = data['anaemia'], y = data['creatinine_phosphokinase'] , hue =data['high_blood_pressure'])\n",
    "plt.title(\"Creatinine Phosphokinase vs Anaemia(high_blood_pressure)\")\n",
    "plt.show()"
   ]
  },
  {
   "cell_type": "markdown",
   "metadata": {},
   "source": [
    "People who are suffering from high_blood_pressure and anaemia have low creatinine_phosphokinase. So its important to have higher creatinine_phosphokinase"
   ]
  },
  {
   "cell_type": "code",
   "execution_count": null,
   "metadata": {
    "execution": {
     "iopub.execute_input": "2023-08-12T11:27:36.935007Z",
     "iopub.status.busy": "2023-08-12T11:27:36.934056Z",
     "iopub.status.idle": "2023-08-12T11:27:38.048337Z",
     "shell.execute_reply": "2023-08-12T11:27:38.047052Z",
     "shell.execute_reply.started": "2023-08-12T11:27:36.934958Z"
    },
    "trusted": true
   },
   "outputs": [],
   "source": [
    "data = df[df['DEATH_EVENT'] == 1]\n",
    "sns.barplot(x = data['sex'],y = data['creatinine_phosphokinase'] , hue =data['smoking'])\n",
    "plt.show()"
   ]
  },
  {
   "cell_type": "markdown",
   "metadata": {},
   "source": [
    "Deaths for a male smoker > female smoker also creatinine_phosphokinase is more in Male"
   ]
  },
  {
   "cell_type": "code",
   "execution_count": null,
   "metadata": {
    "execution": {
     "iopub.execute_input": "2023-08-12T11:29:08.819960Z",
     "iopub.status.busy": "2023-08-12T11:29:08.819528Z",
     "iopub.status.idle": "2023-08-12T11:29:10.950146Z",
     "shell.execute_reply": "2023-08-12T11:29:10.948961Z",
     "shell.execute_reply.started": "2023-08-12T11:29:08.819925Z"
    },
    "trusted": true
   },
   "outputs": [],
   "source": [
    "\n",
    "fig = plt.figure(figsize=(20, 10))\n",
    "j = 1\n",
    "\n",
    "for i in num_col:\n",
    "    plt.subplot(3, 4, j)\n",
    "    sns.barplot(x='sex', y=i, data=df)\n",
    "    plt.title(f'Bar Plot: {i} vs sex')\n",
    "    j = j + 1\n",
    "\n",
    "plt.tight_layout()\n",
    "plt.show()"
   ]
  },
  {
   "cell_type": "markdown",
   "metadata": {},
   "source": [
    "Male have less ejection_fraction than women\n",
    "\n",
    "Platelets count is also slightly high in women"
   ]
  },
  {
   "cell_type": "code",
   "execution_count": null,
   "metadata": {
    "execution": {
     "iopub.execute_input": "2023-08-12T11:32:38.472589Z",
     "iopub.status.busy": "2023-08-12T11:32:38.472190Z",
     "iopub.status.idle": "2023-08-12T11:32:39.764731Z",
     "shell.execute_reply": "2023-08-12T11:32:39.763233Z",
     "shell.execute_reply.started": "2023-08-12T11:32:38.472558Z"
    },
    "trusted": true
   },
   "outputs": [],
   "source": [
    "fig = plt.figure(figsize =(40,10))\n",
    "\n",
    "# Visualizing Diabetes vs Sex\n",
    "plt.subplot(1,4,1)\n",
    "map = pd.crosstab(df['diabetes'],df['sex'])\n",
    "sns.heatmap(map)\n",
    "\n",
    "# Visualizing High Blood Pressure vs Sex\n",
    "plt.subplot(1,4,2)\n",
    "map = pd.crosstab(df['high_blood_pressure'],df['sex'])\n",
    "sns.heatmap(map)\n",
    "\n",
    "# Visualizing Smoking vs Sex\n",
    "plt.subplot(1,4,3)\n",
    "map = pd.crosstab(df['smoking'],df['sex'])\n",
    "sns.heatmap(map)\n",
    "\n",
    "# Visualizing Anaemia vs Sex\n",
    "plt.subplot(1,4,4)\n",
    "map = pd.crosstab(df['anaemia'],df['sex'])\n",
    "sns.heatmap(map)\n",
    "\n",
    "plt.show()"
   ]
  },
  {
   "cell_type": "markdown",
   "metadata": {},
   "source": [
    "Men are more diabetic than women.\n",
    "Men are having more blood pressure than women"
   ]
  },
  {
   "cell_type": "code",
   "execution_count": null,
   "metadata": {
    "execution": {
     "iopub.execute_input": "2023-08-12T11:33:28.909848Z",
     "iopub.status.busy": "2023-08-12T11:33:28.909407Z",
     "iopub.status.idle": "2023-08-12T11:33:29.260709Z",
     "shell.execute_reply": "2023-08-12T11:33:29.259517Z",
     "shell.execute_reply.started": "2023-08-12T11:33:28.909813Z"
    },
    "trusted": true
   },
   "outputs": [],
   "source": [
    "fig = plt.figure(figsize =(20,5))\n",
    "sns.distplot(df[df['DEATH_EVENT'] == 0]['age'],hist = False,color = 'green')\n",
    "sns.distplot(df[df['DEATH_EVENT'] == 1]['age'],hist =False, color='red')\n",
    "plt.show()"
   ]
  },
  {
   "cell_type": "markdown",
   "metadata": {},
   "source": [
    "***If a person is above 70 then his chances of getting a heart failure is high***"
   ]
  },
  {
   "cell_type": "code",
   "execution_count": null,
   "metadata": {
    "execution": {
     "iopub.execute_input": "2023-08-12T11:35:23.530669Z",
     "iopub.status.busy": "2023-08-12T11:35:23.530205Z",
     "iopub.status.idle": "2023-08-12T11:35:24.483208Z",
     "shell.execute_reply": "2023-08-12T11:35:24.482060Z",
     "shell.execute_reply.started": "2023-08-12T11:35:23.530634Z"
    },
    "trusted": true
   },
   "outputs": [],
   "source": [
    "death =df[df['DEATH_EVENT'] == 1]\n",
    "live =df[df['DEATH_EVENT'] == 0]\n",
    "\n",
    "fig = plt.figure(figsize =(20,5))\n",
    "sns.distplot(death[death['smoking'] == 1]['age'],hist = False,color = 'green')\n",
    "sns.distplot(live[live['smoking'] == 1]['age'],hist =False, color='red')\n",
    "\n",
    "plt.show()"
   ]
  },
  {
   "cell_type": "markdown",
   "metadata": {},
   "source": [
    "A Smoker has a higher chance of heartfailure having same age as that of a Non Smoker"
   ]
  },
  {
   "cell_type": "code",
   "execution_count": null,
   "metadata": {
    "execution": {
     "iopub.execute_input": "2023-08-12T11:39:19.007747Z",
     "iopub.status.busy": "2023-08-12T11:39:19.007319Z",
     "iopub.status.idle": "2023-08-12T11:39:19.352038Z",
     "shell.execute_reply": "2023-08-12T11:39:19.350806Z",
     "shell.execute_reply.started": "2023-08-12T11:39:19.007712Z"
    },
    "trusted": true
   },
   "outputs": [],
   "source": [
    "death =df[df['DEATH_EVENT'] == 1]\n",
    "live =df[df['DEATH_EVENT'] == 0]\n",
    "\n",
    "fig = plt.figure(figsize =(20,5))\n",
    "sns.distplot(death[death['diabetes'] == 1]['age'],hist = False,color = 'green')\n",
    "sns.distplot(live[live['diabetes'] == 1]['age'],hist =False, color='red')\n",
    "\n",
    "plt.show()"
   ]
  },
  {
   "cell_type": "markdown",
   "metadata": {},
   "source": [
    "Similar result for diabetes, at a lower age chances of getting a heart failure is high for a diabetic person"
   ]
  },
  {
   "cell_type": "code",
   "execution_count": null,
   "metadata": {
    "execution": {
     "iopub.execute_input": "2023-08-12T11:45:40.161492Z",
     "iopub.status.busy": "2023-08-12T11:45:40.161112Z",
     "iopub.status.idle": "2023-08-12T11:45:40.490106Z",
     "shell.execute_reply": "2023-08-12T11:45:40.488790Z",
     "shell.execute_reply.started": "2023-08-12T11:45:40.161461Z"
    },
    "trusted": true
   },
   "outputs": [],
   "source": [
    "data1 = df[df['DEATH_EVENT'] == 1]\n",
    "data2 = df[df['DEATH_EVENT'] == 0]\n",
    "\n",
    "fig = plt.figure(figsize = (20,5))\n",
    "sns.distplot(data2[data2['anaemia'] == 1]['age'] , hist = False , color = 'green')\n",
    "sns.distplot(data1[data1[\"anaemia\"] == 0]['age'] , hist = False , color = 'red')"
   ]
  },
  {
   "cell_type": "markdown",
   "metadata": {},
   "source": [
    "A person suffering from anemia has fatality when crossing age of 70"
   ]
  },
  {
   "cell_type": "markdown",
   "metadata": {},
   "source": [
    "# Feature Engineering"
   ]
  },
  {
   "cell_type": "code",
   "execution_count": null,
   "metadata": {
    "execution": {
     "iopub.execute_input": "2023-08-12T11:51:56.769836Z",
     "iopub.status.busy": "2023-08-12T11:51:56.769319Z",
     "iopub.status.idle": "2023-08-12T11:51:56.784585Z",
     "shell.execute_reply": "2023-08-12T11:51:56.783468Z",
     "shell.execute_reply.started": "2023-08-12T11:51:56.769801Z"
    },
    "trusted": true
   },
   "outputs": [],
   "source": [
    "q1 = df['platelets'].quantile(0.25)\n",
    "q3 = df['platelets'].quantile(0.75)\n",
    "iqr = q3 - q1\n",
    "mini = q1 - 1.5* iqr\n",
    "maxi = q3 + 1.5*iqr\n",
    "df['platelets'].max(), maxi"
   ]
  },
  {
   "cell_type": "code",
   "execution_count": null,
   "metadata": {
    "execution": {
     "iopub.execute_input": "2023-08-12T11:52:28.713001Z",
     "iopub.status.busy": "2023-08-12T11:52:28.712591Z",
     "iopub.status.idle": "2023-08-12T11:52:29.759483Z",
     "shell.execute_reply": "2023-08-12T11:52:29.758335Z",
     "shell.execute_reply.started": "2023-08-12T11:52:28.712968Z"
    },
    "trusted": true
   },
   "outputs": [],
   "source": [
    "fig = plt.figure(figsize=(20,10))\n",
    "j=1\n",
    "for i in num_col:\n",
    "    plt.subplot(2,4,j)\n",
    "    sns.boxplot(df[i])\n",
    "    j=j+1"
   ]
  },
  {
   "cell_type": "markdown",
   "metadata": {},
   "source": [
    "***Handling Outliers***"
   ]
  },
  {
   "cell_type": "code",
   "execution_count": null,
   "metadata": {
    "execution": {
     "iopub.execute_input": "2023-08-12T11:53:10.413923Z",
     "iopub.status.busy": "2023-08-12T11:53:10.413430Z",
     "iopub.status.idle": "2023-08-12T11:53:10.419494Z",
     "shell.execute_reply": "2023-08-12T11:53:10.418586Z",
     "shell.execute_reply.started": "2023-08-12T11:53:10.413884Z"
    },
    "trusted": true
   },
   "outputs": [],
   "source": [
    "outliers = ['creatinine_phosphokinase','ejection_fraction','platelets','serum_creatinine','serum_sodium']"
   ]
  },
  {
   "cell_type": "code",
   "execution_count": null,
   "metadata": {
    "execution": {
     "iopub.execute_input": "2023-08-12T11:54:22.014678Z",
     "iopub.status.busy": "2023-08-12T11:54:22.014278Z",
     "iopub.status.idle": "2023-08-12T11:54:22.041820Z",
     "shell.execute_reply": "2023-08-12T11:54:22.040461Z",
     "shell.execute_reply.started": "2023-08-12T11:54:22.014647Z"
    },
    "trusted": true
   },
   "outputs": [],
   "source": [
    "df1 = df.copy()\n",
    "for i in outliers:\n",
    "    q1 = df[i].quantile(0.25)\n",
    "    q3 = df[i].quantile(0.75)\n",
    "    \n",
    "    iqr  = q3 - q1\n",
    "    minimum = q1 - 1.5* iqr\n",
    "    maximum = q3 + 1.5*iqr\n",
    "    \n",
    "\n",
    "    df1[i] = np.where(\n",
    "    df1[i] > maximum,\n",
    "    maximum,\n",
    "    np.where(\n",
    "        df1[i] < minimum,\n",
    "        minimum,\n",
    "        df1[i]\n",
    "        )\n",
    "    )"
   ]
  },
  {
   "cell_type": "code",
   "execution_count": null,
   "metadata": {
    "execution": {
     "iopub.execute_input": "2023-08-12T11:54:37.862663Z",
     "iopub.status.busy": "2023-08-12T11:54:37.862222Z",
     "iopub.status.idle": "2023-08-12T11:54:38.962017Z",
     "shell.execute_reply": "2023-08-12T11:54:38.960809Z",
     "shell.execute_reply.started": "2023-08-12T11:54:37.862627Z"
    },
    "trusted": true
   },
   "outputs": [],
   "source": [
    "fig = plt.figure(figsize=(20,10))\n",
    "j=1\n",
    "for i in num_col:\n",
    "    plt.subplot(2,4,j)\n",
    "    sns.boxplot(df1[i])\n",
    "    j=j+1"
   ]
  },
  {
   "cell_type": "markdown",
   "metadata": {},
   "source": [
    "***Now all the outliers are handled***"
   ]
  },
  {
   "cell_type": "code",
   "execution_count": null,
   "metadata": {
    "execution": {
     "iopub.execute_input": "2023-08-12T11:56:11.092321Z",
     "iopub.status.busy": "2023-08-12T11:56:11.091888Z",
     "iopub.status.idle": "2023-08-12T11:56:11.297725Z",
     "shell.execute_reply": "2023-08-12T11:56:11.296528Z",
     "shell.execute_reply.started": "2023-08-12T11:56:11.092287Z"
    },
    "trusted": true
   },
   "outputs": [],
   "source": [
    "# importing libraries\n",
    "import scipy.stats as stats\n",
    "from sklearn.model_selection import train_test_split\n",
    "from sklearn.preprocessing import FunctionTransformer, StandardScaler"
   ]
  },
  {
   "cell_type": "code",
   "execution_count": null,
   "metadata": {
    "execution": {
     "iopub.execute_input": "2023-08-12T11:56:16.969742Z",
     "iopub.status.busy": "2023-08-12T11:56:16.969332Z",
     "iopub.status.idle": "2023-08-12T11:56:16.975248Z",
     "shell.execute_reply": "2023-08-12T11:56:16.974044Z",
     "shell.execute_reply.started": "2023-08-12T11:56:16.969706Z"
    },
    "trusted": true
   },
   "outputs": [],
   "source": [
    "X = df1['creatinine_phosphokinase']"
   ]
  },
  {
   "cell_type": "code",
   "execution_count": null,
   "metadata": {
    "execution": {
     "iopub.execute_input": "2023-08-12T11:56:29.160375Z",
     "iopub.status.busy": "2023-08-12T11:56:29.159988Z",
     "iopub.status.idle": "2023-08-12T11:56:29.479164Z",
     "shell.execute_reply": "2023-08-12T11:56:29.478050Z",
     "shell.execute_reply.started": "2023-08-12T11:56:29.160344Z"
    },
    "trusted": true
   },
   "outputs": [],
   "source": [
    "# Plottting QQ plots for creatinine_phosphokinase \n",
    "fig = plt.figure(figsize=(10,5))\n",
    "\n",
    "plt.subplot(121)\n",
    "stats.probplot(df1['creatinine_phosphokinase'], dist =\"norm\", plot = plt)\n",
    "plt.show()"
   ]
  },
  {
   "cell_type": "code",
   "execution_count": null,
   "metadata": {
    "execution": {
     "iopub.execute_input": "2023-08-12T11:56:44.462235Z",
     "iopub.status.busy": "2023-08-12T11:56:44.461806Z",
     "iopub.status.idle": "2023-08-12T11:56:44.469014Z",
     "shell.execute_reply": "2023-08-12T11:56:44.467805Z",
     "shell.execute_reply.started": "2023-08-12T11:56:44.462201Z"
    },
    "trusted": true
   },
   "outputs": [],
   "source": [
    "trf = FunctionTransformer(func=np.log1p)\n",
    "X_train_transformed = trf.fit_transform(X)"
   ]
  },
  {
   "cell_type": "code",
   "execution_count": null,
   "metadata": {
    "execution": {
     "iopub.execute_input": "2023-08-12T11:58:07.172896Z",
     "iopub.status.busy": "2023-08-12T11:58:07.172441Z",
     "iopub.status.idle": "2023-08-12T11:58:08.445410Z",
     "shell.execute_reply": "2023-08-12T11:58:08.444271Z",
     "shell.execute_reply.started": "2023-08-12T11:58:07.172861Z"
    },
    "trusted": true
   },
   "outputs": [],
   "source": [
    "plt.figure(figsize=(14,4))\n",
    "\n",
    "plt.subplot(121)\n",
    "stats.probplot(X_train_transformed, dist=\"norm\", plot=plt)\n",
    "plt.title('creatinine_phosphokinase Before Log')\n",
    "\n",
    "plt.subplot(122)\n",
    "stats.probplot(X, dist=\"norm\", plot=plt)\n",
    "plt.title('creatinine_phosphokinase After Log')\n",
    "\n",
    "plt.show()"
   ]
  },
  {
   "cell_type": "code",
   "execution_count": null,
   "metadata": {},
   "outputs": [],
   "source": [
    "# replacing the transformed value into our original dataframe\n",
    "df1['creatinine_phosphokinase']  = X_train_transformed"
   ]
  },
  {
   "cell_type": "code",
   "execution_count": null,
   "metadata": {
    "execution": {
     "iopub.execute_input": "2023-08-12T11:58:14.513121Z",
     "iopub.status.busy": "2023-08-12T11:58:14.512719Z",
     "iopub.status.idle": "2023-08-12T11:58:14.520699Z",
     "shell.execute_reply": "2023-08-12T11:58:14.519384Z",
     "shell.execute_reply.started": "2023-08-12T11:58:14.513091Z"
    },
    "trusted": true
   },
   "outputs": [],
   "source": [
    "# Extarcting X and y \n",
    "X = df1.drop(columns = 'DEATH_EVENT')\n",
    "y = df['DEATH_EVENT']"
   ]
  },
  {
   "cell_type": "code",
   "execution_count": null,
   "metadata": {
    "execution": {
     "iopub.execute_input": "2023-08-12T11:58:23.966791Z",
     "iopub.status.busy": "2023-08-12T11:58:23.966395Z",
     "iopub.status.idle": "2023-08-12T11:58:23.974711Z",
     "shell.execute_reply": "2023-08-12T11:58:23.973642Z",
     "shell.execute_reply.started": "2023-08-12T11:58:23.966746Z"
    },
    "trusted": true
   },
   "outputs": [],
   "source": [
    "x_train,x_test,y_train,y_test = train_test_split(X,y ,test_size =0.2 ,random_state = 12)"
   ]
  },
  {
   "cell_type": "code",
   "execution_count": null,
   "metadata": {
    "execution": {
     "iopub.execute_input": "2023-08-12T11:58:32.003871Z",
     "iopub.status.busy": "2023-08-12T11:58:32.003463Z",
     "iopub.status.idle": "2023-08-12T11:58:32.016653Z",
     "shell.execute_reply": "2023-08-12T11:58:32.015742Z",
     "shell.execute_reply.started": "2023-08-12T11:58:32.003830Z"
    },
    "trusted": true
   },
   "outputs": [],
   "source": [
    "# Feature Scaling\n",
    "\n",
    "scaler = StandardScaler()\n",
    "x_train_scaled  = scaler.fit_transform(x_train)\n",
    "x_test_scaled = scaler.transform(x_test)"
   ]
  },
  {
   "cell_type": "code",
   "execution_count": null,
   "metadata": {
    "execution": {
     "iopub.execute_input": "2023-08-12T11:58:37.631015Z",
     "iopub.status.busy": "2023-08-12T11:58:37.630611Z",
     "iopub.status.idle": "2023-08-12T11:58:37.638069Z",
     "shell.execute_reply": "2023-08-12T11:58:37.636845Z",
     "shell.execute_reply.started": "2023-08-12T11:58:37.630984Z"
    },
    "trusted": true
   },
   "outputs": [],
   "source": [
    "x_train_scaled.shape"
   ]
  },
  {
   "cell_type": "code",
   "execution_count": null,
   "metadata": {
    "execution": {
     "iopub.execute_input": "2023-08-12T11:58:45.629137Z",
     "iopub.status.busy": "2023-08-12T11:58:45.628712Z",
     "iopub.status.idle": "2023-08-12T11:58:45.637132Z",
     "shell.execute_reply": "2023-08-12T11:58:45.635849Z",
     "shell.execute_reply.started": "2023-08-12T11:58:45.629105Z"
    },
    "trusted": true
   },
   "outputs": [],
   "source": [
    "x_test_scaled.shape"
   ]
  },
  {
   "cell_type": "markdown",
   "metadata": {},
   "source": [
    "# Model Selection"
   ]
  },
  {
   "cell_type": "code",
   "execution_count": null,
   "metadata": {
    "execution": {
     "iopub.execute_input": "2023-08-12T11:59:09.915688Z",
     "iopub.status.busy": "2023-08-12T11:59:09.915123Z",
     "iopub.status.idle": "2023-08-12T11:59:10.184465Z",
     "shell.execute_reply": "2023-08-12T11:59:10.183349Z",
     "shell.execute_reply.started": "2023-08-12T11:59:09.915648Z"
    },
    "trusted": true
   },
   "outputs": [],
   "source": [
    "from sklearn.linear_model import LogisticRegression \n",
    "from sklearn.tree import DecisionTreeClassifier\n",
    "from sklearn.metrics import classification_report,accuracy_score,recall_score,precision_score\n"
   ]
  },
  {
   "cell_type": "code",
   "execution_count": null,
   "metadata": {
    "execution": {
     "iopub.execute_input": "2023-08-12T11:59:18.676392Z",
     "iopub.status.busy": "2023-08-12T11:59:18.675974Z",
     "iopub.status.idle": "2023-08-12T11:59:18.694256Z",
     "shell.execute_reply": "2023-08-12T11:59:18.693126Z",
     "shell.execute_reply.started": "2023-08-12T11:59:18.676357Z"
    },
    "trusted": true
   },
   "outputs": [],
   "source": [
    "lr = LogisticRegression()\n",
    "lr.fit(x_train_scaled,y_train)\n",
    "y_pred = lr.predict(x_test_scaled)\n",
    "\n",
    "accuracy_score(y_test,y_pred)"
   ]
  },
  {
   "cell_type": "code",
   "execution_count": null,
   "metadata": {
    "execution": {
     "iopub.execute_input": "2023-08-12T11:59:28.992099Z",
     "iopub.status.busy": "2023-08-12T11:59:28.991644Z",
     "iopub.status.idle": "2023-08-12T11:59:29.005904Z",
     "shell.execute_reply": "2023-08-12T11:59:29.004905Z",
     "shell.execute_reply.started": "2023-08-12T11:59:28.992063Z"
    },
    "trusted": true
   },
   "outputs": [],
   "source": [
    "lr2 = DecisionTreeClassifier()\n",
    "lr.fit(x_train_scaled,y_train)\n",
    "y_pred = lr.predict(x_test_scaled)\n",
    "\n",
    "accuracy_score(y_test,y_pred)"
   ]
  },
  {
   "cell_type": "code",
   "execution_count": null,
   "metadata": {
    "execution": {
     "iopub.execute_input": "2023-08-12T11:59:40.669326Z",
     "iopub.status.busy": "2023-08-12T11:59:40.668916Z",
     "iopub.status.idle": "2023-08-12T11:59:40.687858Z",
     "shell.execute_reply": "2023-08-12T11:59:40.686292Z",
     "shell.execute_reply.started": "2023-08-12T11:59:40.669295Z"
    },
    "trusted": true
   },
   "outputs": [],
   "source": [
    "print(accuracy_score(y_test,y_pred))\n",
    "print(recall_score(y_test,y_pred))\n",
    "print(precision_score(y_test,y_pred))\n",
    "print(precision_score(y_test,y_pred))"
   ]
  },
  {
   "cell_type": "markdown",
   "metadata": {},
   "source": [
    "Accuracy Score Metric gives around 83% accuracy"
   ]
  },
  {
   "cell_type": "code",
   "execution_count": null,
   "metadata": {},
   "outputs": [],
   "source": []
  },
  {
   "cell_type": "code",
   "execution_count": null,
   "metadata": {},
   "outputs": [],
   "source": []
  },
  {
   "cell_type": "code",
   "execution_count": null,
   "metadata": {},
   "outputs": [],
   "source": []
  },
  {
   "cell_type": "code",
   "execution_count": null,
   "metadata": {},
   "outputs": [],
   "source": []
  }
 ],
 "metadata": {
  "kernelspec": {
   "display_name": "Python 3",
   "language": "python",
   "name": "python3"
  },
  "language_info": {
   "codemirror_mode": {
    "name": "ipython",
    "version": 3
   },
   "file_extension": ".py",
   "mimetype": "text/x-python",
   "name": "python",
   "nbconvert_exporter": "python",
   "pygments_lexer": "ipython3",
   "version": "3.6.4"
  }
 },
 "nbformat": 4,
 "nbformat_minor": 4
}
